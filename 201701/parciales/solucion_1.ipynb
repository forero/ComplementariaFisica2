{
 "cells": [
  {
   "cell_type": "code",
   "execution_count": 1,
   "metadata": {
    "collapsed": true
   },
   "outputs": [],
   "source": [
    "#problema 1\n",
    "import math"
   ]
  },
  {
   "cell_type": "code",
   "execution_count": 2,
   "metadata": {
    "collapsed": false
   },
   "outputs": [],
   "source": [
    "def T_f(m_agua=0.1, t_agua=298.0, m_cobre=1, t_cobre=423.0, c_cobre=390.0, c_agua=4190.0):\n",
    "    x = (m_agua * c_agua * t_agua) + (m_cobre * c_cobre * t_cobre)\n",
    "    x = x/(m_agua * c_agua + m_cobre * c_cobre)\n",
    "    return x-273.0"
   ]
  },
  {
   "cell_type": "code",
   "execution_count": 3,
   "metadata": {
    "collapsed": false
   },
   "outputs": [
    {
     "name": "stdout",
     "output_type": "stream",
     "text": [
      "106.31776480400333 112.42826398852225 85.25957972805935\n"
     ]
    }
   ],
   "source": [
    "print(T_f(m_cobre=2.0), T_f(m_cobre=2.5), T_f(m_cobre=1.0))"
   ]
  },
  {
   "cell_type": "code",
   "execution_count": 9,
   "metadata": {
    "collapsed": false
   },
   "outputs": [],
   "source": [
    "def x_vap(m_agua=0.1, t_agua=298.0, m_cobre=1, t_cobre=423.0, c_cobre=390.0, c_agua=4190.0, L_vap=2.2E5):\n",
    "    x = (-m_cobre * c_cobre *(373.0 - t_cobre) - m_agua * c_agua *(373.0-t_agua))\n",
    "    x = x/(m_agua * L_vap)\n",
    "    return x"
   ]
  },
  {
   "cell_type": "code",
   "execution_count": 10,
   "metadata": {
    "collapsed": false
   },
   "outputs": [
    {
     "name": "stdout",
     "output_type": "stream",
     "text": [
      "0.3443181818181818 0.7875\n"
     ]
    }
   ],
   "source": [
    "print(x_vap(m_cobre= 2.0), x_vap(m_cobre=2.5))"
   ]
  },
  {
   "cell_type": "code",
   "execution_count": 11,
   "metadata": {
    "collapsed": true
   },
   "outputs": [],
   "source": [
    "def heat_ratio(a=1.0, T_f=2.0, T_1=1.0):\n",
    "    x = a*3.0/(5.0) * (T_f - T_1)/(T_f - T_1/a)\n",
    "    return x"
   ]
  },
  {
   "cell_type": "code",
   "execution_count": 12,
   "metadata": {
    "collapsed": false
   },
   "outputs": [
    {
     "name": "stdout",
     "output_type": "stream",
     "text": [
      "0.8571428571428571\n",
      "0.9818181818181818\n",
      "0.6\n"
     ]
    }
   ],
   "source": [
    "print(heat_ratio(a=2.0,T_1=127+273.0, T_f=627+273.0))\n",
    "print(heat_ratio(a=3.0, T_1=227+273, T_f=627+273))\n",
    "print(heat_ratio(a=1.0, T_1=27+273, T_f=327+273))"
   ]
  },
  {
   "cell_type": "code",
   "execution_count": 13,
   "metadata": {
    "collapsed": true
   },
   "outputs": [],
   "source": [
    "def entropy(m=1.0, c=4190, t_1=80, t_2=20):\n",
    "    t_a = t_1 + 273.0\n",
    "    t_b = t_2 + 273.0\n",
    "    x = (0.5*(t_a+t_b))**2/(t_a * t_b)\n",
    "    x = math.log(x)\n",
    "    x = m*c*x\n",
    "    return x"
   ]
  },
  {
   "cell_type": "code",
   "execution_count": 9,
   "metadata": {
    "collapsed": false
   },
   "outputs": [
    {
     "name": "stdout",
     "output_type": "stream",
     "text": [
      "36.302078273835924 4.279047339295969 36.302078273835924\n"
     ]
    }
   ],
   "source": [
    "print(entropy(t_1=80, t_2=20), entropy(t_1=50.0, t_2=30.0), entropy(t_1=80, t_2=20))"
   ]
  },
  {
   "cell_type": "code",
   "execution_count": 10,
   "metadata": {
    "collapsed": true
   },
   "outputs": [],
   "source": [
    "def carga(l=1.0, m=1.0, theta=1.0, g=10.0, k=9E9):\n",
    "    t = theta * math.pi / 180.0\n",
    "    x = 4 * l * l\n",
    "    x = x *math.sin(t) * math.sin(t) * math.tan(t)\n",
    "    x = x *m * g/k\n",
    "    x = math.sqrt(x)\n",
    "    return x\n"
   ]
  },
  {
   "cell_type": "code",
   "execution_count": 11,
   "metadata": {
    "collapsed": false
   },
   "outputs": [
    {
     "name": "stdout",
     "output_type": "stream",
     "text": [
      "0.0004714045207910316 0.00017909498863725697 0.0005372849659117708\n"
     ]
    }
   ],
   "source": [
    "print(carga(l=10, m=1.0, theta=45), carga(l=5, m=2, theta=30), carga(l=5, m=2,theta=60))"
   ]
  },
  {
   "cell_type": "code",
   "execution_count": null,
   "metadata": {
    "collapsed": true
   },
   "outputs": [],
   "source": []
  },
  {
   "cell_type": "code",
   "execution_count": null,
   "metadata": {
    "collapsed": true
   },
   "outputs": [],
   "source": []
  }
 ],
 "metadata": {
  "kernelspec": {
   "display_name": "Python [conda root]",
   "language": "python",
   "name": "conda-root-py"
  },
  "language_info": {
   "codemirror_mode": {
    "name": "ipython",
    "version": 3
   },
   "file_extension": ".py",
   "mimetype": "text/x-python",
   "name": "python",
   "nbconvert_exporter": "python",
   "pygments_lexer": "ipython3",
   "version": "3.5.2"
  }
 },
 "nbformat": 4,
 "nbformat_minor": 2
}
